{
 "cells": [
  {
   "cell_type": "markdown",
   "metadata": {},
   "source": [
    "# Name: Sangramjit Hazarika\n",
    "# Course: Machine Learning with Python\n",
    "# Email-id: sangramjithazarika123@gmail.com\n",
    "# OUTSTANDING-2"
   ]
  },
  {
   "cell_type": "code",
   "execution_count": 38,
   "metadata": {},
   "outputs": [],
   "source": [
    "import nltk"
   ]
  },
  {
   "cell_type": "code",
   "execution_count": 39,
   "metadata": {},
   "outputs": [],
   "source": [
    "#nltk.download()"
   ]
  },
  {
   "cell_type": "code",
   "execution_count": 40,
   "metadata": {},
   "outputs": [],
   "source": [
    "import pandas as pd"
   ]
  },
  {
   "cell_type": "markdown",
   "metadata": {},
   "source": [
    "# Dataset"
   ]
  },
  {
   "cell_type": "code",
   "execution_count": 41,
   "metadata": {},
   "outputs": [],
   "source": [
    "df = pd.read_csv('Musical_instruments_reviews.csv')"
   ]
  },
  {
   "cell_type": "code",
   "execution_count": 42,
   "metadata": {},
   "outputs": [
    {
     "data": {
      "text/html": [
       "<div>\n",
       "<style scoped>\n",
       "    .dataframe tbody tr th:only-of-type {\n",
       "        vertical-align: middle;\n",
       "    }\n",
       "\n",
       "    .dataframe tbody tr th {\n",
       "        vertical-align: top;\n",
       "    }\n",
       "\n",
       "    .dataframe thead th {\n",
       "        text-align: right;\n",
       "    }\n",
       "</style>\n",
       "<table border=\"1\" class=\"dataframe\">\n",
       "  <thead>\n",
       "    <tr style=\"text-align: right;\">\n",
       "      <th></th>\n",
       "      <th>reviewerID</th>\n",
       "      <th>asin</th>\n",
       "      <th>reviewerName</th>\n",
       "      <th>helpful</th>\n",
       "      <th>reviewText</th>\n",
       "      <th>overall</th>\n",
       "      <th>summary</th>\n",
       "      <th>unixReviewTime</th>\n",
       "      <th>reviewTime</th>\n",
       "    </tr>\n",
       "  </thead>\n",
       "  <tbody>\n",
       "    <tr>\n",
       "      <th>0</th>\n",
       "      <td>A2IBPI20UZIR0U</td>\n",
       "      <td>1384719342</td>\n",
       "      <td>cassandra tu \"Yeah, well, that's just like, u...</td>\n",
       "      <td>[0, 0]</td>\n",
       "      <td>Not much to write about here, but it does exac...</td>\n",
       "      <td>5.0</td>\n",
       "      <td>good</td>\n",
       "      <td>1393545600</td>\n",
       "      <td>02 28, 2014</td>\n",
       "    </tr>\n",
       "    <tr>\n",
       "      <th>1</th>\n",
       "      <td>A14VAT5EAX3D9S</td>\n",
       "      <td>1384719342</td>\n",
       "      <td>Jake</td>\n",
       "      <td>[13, 14]</td>\n",
       "      <td>The product does exactly as it should and is q...</td>\n",
       "      <td>5.0</td>\n",
       "      <td>Jake</td>\n",
       "      <td>1363392000</td>\n",
       "      <td>03 16, 2013</td>\n",
       "    </tr>\n",
       "    <tr>\n",
       "      <th>2</th>\n",
       "      <td>A195EZSQDW3E21</td>\n",
       "      <td>1384719342</td>\n",
       "      <td>Rick Bennette \"Rick Bennette\"</td>\n",
       "      <td>[1, 1]</td>\n",
       "      <td>The primary job of this device is to block the...</td>\n",
       "      <td>5.0</td>\n",
       "      <td>It Does The Job Well</td>\n",
       "      <td>1377648000</td>\n",
       "      <td>08 28, 2013</td>\n",
       "    </tr>\n",
       "    <tr>\n",
       "      <th>3</th>\n",
       "      <td>A2C00NNG1ZQQG2</td>\n",
       "      <td>1384719342</td>\n",
       "      <td>RustyBill \"Sunday Rocker\"</td>\n",
       "      <td>[0, 0]</td>\n",
       "      <td>Nice windscreen protects my MXL mic and preven...</td>\n",
       "      <td>5.0</td>\n",
       "      <td>GOOD WINDSCREEN FOR THE MONEY</td>\n",
       "      <td>1392336000</td>\n",
       "      <td>02 14, 2014</td>\n",
       "    </tr>\n",
       "    <tr>\n",
       "      <th>4</th>\n",
       "      <td>A94QU4C90B1AX</td>\n",
       "      <td>1384719342</td>\n",
       "      <td>SEAN MASLANKA</td>\n",
       "      <td>[0, 0]</td>\n",
       "      <td>This pop filter is great. It looks and perform...</td>\n",
       "      <td>5.0</td>\n",
       "      <td>No more pops when I record my vocals.</td>\n",
       "      <td>1392940800</td>\n",
       "      <td>02 21, 2014</td>\n",
       "    </tr>\n",
       "    <tr>\n",
       "      <th>...</th>\n",
       "      <td>...</td>\n",
       "      <td>...</td>\n",
       "      <td>...</td>\n",
       "      <td>...</td>\n",
       "      <td>...</td>\n",
       "      <td>...</td>\n",
       "      <td>...</td>\n",
       "      <td>...</td>\n",
       "      <td>...</td>\n",
       "    </tr>\n",
       "    <tr>\n",
       "      <th>10256</th>\n",
       "      <td>A14B2YH83ZXMPP</td>\n",
       "      <td>B00JBIVXGC</td>\n",
       "      <td>Lonnie M. Adams</td>\n",
       "      <td>[0, 0]</td>\n",
       "      <td>Great, just as expected.  Thank to all.</td>\n",
       "      <td>5.0</td>\n",
       "      <td>Five Stars</td>\n",
       "      <td>1405814400</td>\n",
       "      <td>07 20, 2014</td>\n",
       "    </tr>\n",
       "    <tr>\n",
       "      <th>10257</th>\n",
       "      <td>A1RPTVW5VEOSI</td>\n",
       "      <td>B00JBIVXGC</td>\n",
       "      <td>Michael J. Edelman</td>\n",
       "      <td>[0, 0]</td>\n",
       "      <td>I've been thinking about trying the Nanoweb st...</td>\n",
       "      <td>5.0</td>\n",
       "      <td>Long life, and for some players, a good econom...</td>\n",
       "      <td>1404259200</td>\n",
       "      <td>07 2, 2014</td>\n",
       "    </tr>\n",
       "    <tr>\n",
       "      <th>10258</th>\n",
       "      <td>AWCJ12KBO5VII</td>\n",
       "      <td>B00JBIVXGC</td>\n",
       "      <td>Michael L. Knapp</td>\n",
       "      <td>[0, 0]</td>\n",
       "      <td>I have tried coated strings in the past ( incl...</td>\n",
       "      <td>4.0</td>\n",
       "      <td>Good for coated.</td>\n",
       "      <td>1405987200</td>\n",
       "      <td>07 22, 2014</td>\n",
       "    </tr>\n",
       "    <tr>\n",
       "      <th>10259</th>\n",
       "      <td>A2Z7S8B5U4PAKJ</td>\n",
       "      <td>B00JBIVXGC</td>\n",
       "      <td>Rick Langdon \"Scriptor\"</td>\n",
       "      <td>[0, 0]</td>\n",
       "      <td>Well, MADE by Elixir and DEVELOPED with Taylor...</td>\n",
       "      <td>4.0</td>\n",
       "      <td>Taylor Made</td>\n",
       "      <td>1404172800</td>\n",
       "      <td>07 1, 2014</td>\n",
       "    </tr>\n",
       "    <tr>\n",
       "      <th>10260</th>\n",
       "      <td>A2WA8TDCTGUADI</td>\n",
       "      <td>B00JBIVXGC</td>\n",
       "      <td>TheTerrorBeyond</td>\n",
       "      <td>[0, 0]</td>\n",
       "      <td>These strings are really quite good, but I wou...</td>\n",
       "      <td>4.0</td>\n",
       "      <td>These strings are really quite good, but I wou...</td>\n",
       "      <td>1405468800</td>\n",
       "      <td>07 16, 2014</td>\n",
       "    </tr>\n",
       "  </tbody>\n",
       "</table>\n",
       "<p>10261 rows × 9 columns</p>\n",
       "</div>"
      ],
      "text/plain": [
       "           reviewerID        asin  \\\n",
       "0      A2IBPI20UZIR0U  1384719342   \n",
       "1      A14VAT5EAX3D9S  1384719342   \n",
       "2      A195EZSQDW3E21  1384719342   \n",
       "3      A2C00NNG1ZQQG2  1384719342   \n",
       "4       A94QU4C90B1AX  1384719342   \n",
       "...               ...         ...   \n",
       "10256  A14B2YH83ZXMPP  B00JBIVXGC   \n",
       "10257   A1RPTVW5VEOSI  B00JBIVXGC   \n",
       "10258   AWCJ12KBO5VII  B00JBIVXGC   \n",
       "10259  A2Z7S8B5U4PAKJ  B00JBIVXGC   \n",
       "10260  A2WA8TDCTGUADI  B00JBIVXGC   \n",
       "\n",
       "                                           reviewerName   helpful  \\\n",
       "0      cassandra tu \"Yeah, well, that's just like, u...    [0, 0]   \n",
       "1                                                  Jake  [13, 14]   \n",
       "2                         Rick Bennette \"Rick Bennette\"    [1, 1]   \n",
       "3                             RustyBill \"Sunday Rocker\"    [0, 0]   \n",
       "4                                         SEAN MASLANKA    [0, 0]   \n",
       "...                                                 ...       ...   \n",
       "10256                                   Lonnie M. Adams    [0, 0]   \n",
       "10257                                Michael J. Edelman    [0, 0]   \n",
       "10258                                  Michael L. Knapp    [0, 0]   \n",
       "10259                           Rick Langdon \"Scriptor\"    [0, 0]   \n",
       "10260                                   TheTerrorBeyond    [0, 0]   \n",
       "\n",
       "                                              reviewText  overall  \\\n",
       "0      Not much to write about here, but it does exac...      5.0   \n",
       "1      The product does exactly as it should and is q...      5.0   \n",
       "2      The primary job of this device is to block the...      5.0   \n",
       "3      Nice windscreen protects my MXL mic and preven...      5.0   \n",
       "4      This pop filter is great. It looks and perform...      5.0   \n",
       "...                                                  ...      ...   \n",
       "10256            Great, just as expected.  Thank to all.      5.0   \n",
       "10257  I've been thinking about trying the Nanoweb st...      5.0   \n",
       "10258  I have tried coated strings in the past ( incl...      4.0   \n",
       "10259  Well, MADE by Elixir and DEVELOPED with Taylor...      4.0   \n",
       "10260  These strings are really quite good, but I wou...      4.0   \n",
       "\n",
       "                                                 summary  unixReviewTime  \\\n",
       "0                                                   good      1393545600   \n",
       "1                                                   Jake      1363392000   \n",
       "2                                   It Does The Job Well      1377648000   \n",
       "3                          GOOD WINDSCREEN FOR THE MONEY      1392336000   \n",
       "4                  No more pops when I record my vocals.      1392940800   \n",
       "...                                                  ...             ...   \n",
       "10256                                         Five Stars      1405814400   \n",
       "10257  Long life, and for some players, a good econom...      1404259200   \n",
       "10258                                   Good for coated.      1405987200   \n",
       "10259                                        Taylor Made      1404172800   \n",
       "10260  These strings are really quite good, but I wou...      1405468800   \n",
       "\n",
       "        reviewTime  \n",
       "0      02 28, 2014  \n",
       "1      03 16, 2013  \n",
       "2      08 28, 2013  \n",
       "3      02 14, 2014  \n",
       "4      02 21, 2014  \n",
       "...            ...  \n",
       "10256  07 20, 2014  \n",
       "10257   07 2, 2014  \n",
       "10258  07 22, 2014  \n",
       "10259   07 1, 2014  \n",
       "10260  07 16, 2014  \n",
       "\n",
       "[10261 rows x 9 columns]"
      ]
     },
     "execution_count": 42,
     "metadata": {},
     "output_type": "execute_result"
    }
   ],
   "source": [
    "df"
   ]
  },
  {
   "cell_type": "code",
   "execution_count": 43,
   "metadata": {},
   "outputs": [
    {
     "data": {
      "text/plain": [
       "5.0    6938\n",
       "4.0    2084\n",
       "3.0     772\n",
       "2.0     250\n",
       "1.0     217\n",
       "Name: overall, dtype: int64"
      ]
     },
     "execution_count": 43,
     "metadata": {},
     "output_type": "execute_result"
    }
   ],
   "source": [
    "df['overall'].value_counts()"
   ]
  },
  {
   "cell_type": "markdown",
   "metadata": {},
   "source": [
    "# List of Stopwords"
   ]
  },
  {
   "cell_type": "code",
   "execution_count": 44,
   "metadata": {},
   "outputs": [],
   "source": [
    "from nltk.tokenize import sent_tokenize, word_tokenize\n",
    "from nltk.corpus import stopwords"
   ]
  },
  {
   "cell_type": "code",
   "execution_count": 45,
   "metadata": {},
   "outputs": [],
   "source": [
    "list_of_stopwords = stopwords.words('English')"
   ]
  },
  {
   "cell_type": "code",
   "execution_count": 46,
   "metadata": {},
   "outputs": [
    {
     "data": {
      "text/plain": [
       "['i',\n",
       " 'me',\n",
       " 'my',\n",
       " 'myself',\n",
       " 'we',\n",
       " 'our',\n",
       " 'ours',\n",
       " 'ourselves',\n",
       " 'you',\n",
       " \"you're\",\n",
       " \"you've\",\n",
       " \"you'll\",\n",
       " \"you'd\",\n",
       " 'your',\n",
       " 'yours',\n",
       " 'yourself',\n",
       " 'yourselves',\n",
       " 'he',\n",
       " 'him',\n",
       " 'his',\n",
       " 'himself',\n",
       " 'she',\n",
       " \"she's\",\n",
       " 'her',\n",
       " 'hers',\n",
       " 'herself',\n",
       " 'it',\n",
       " \"it's\",\n",
       " 'its',\n",
       " 'itself',\n",
       " 'they',\n",
       " 'them',\n",
       " 'their',\n",
       " 'theirs',\n",
       " 'themselves',\n",
       " 'what',\n",
       " 'which',\n",
       " 'who',\n",
       " 'whom',\n",
       " 'this',\n",
       " 'that',\n",
       " \"that'll\",\n",
       " 'these',\n",
       " 'those',\n",
       " 'am',\n",
       " 'is',\n",
       " 'are',\n",
       " 'was',\n",
       " 'were',\n",
       " 'be',\n",
       " 'been',\n",
       " 'being',\n",
       " 'have',\n",
       " 'has',\n",
       " 'had',\n",
       " 'having',\n",
       " 'do',\n",
       " 'does',\n",
       " 'did',\n",
       " 'doing',\n",
       " 'a',\n",
       " 'an',\n",
       " 'the',\n",
       " 'and',\n",
       " 'but',\n",
       " 'if',\n",
       " 'or',\n",
       " 'because',\n",
       " 'as',\n",
       " 'until',\n",
       " 'while',\n",
       " 'of',\n",
       " 'at',\n",
       " 'by',\n",
       " 'for',\n",
       " 'with',\n",
       " 'about',\n",
       " 'against',\n",
       " 'between',\n",
       " 'into',\n",
       " 'through',\n",
       " 'during',\n",
       " 'before',\n",
       " 'after',\n",
       " 'above',\n",
       " 'below',\n",
       " 'to',\n",
       " 'from',\n",
       " 'up',\n",
       " 'down',\n",
       " 'in',\n",
       " 'out',\n",
       " 'on',\n",
       " 'off',\n",
       " 'over',\n",
       " 'under',\n",
       " 'again',\n",
       " 'further',\n",
       " 'then',\n",
       " 'once',\n",
       " 'here',\n",
       " 'there',\n",
       " 'when',\n",
       " 'where',\n",
       " 'why',\n",
       " 'how',\n",
       " 'all',\n",
       " 'any',\n",
       " 'both',\n",
       " 'each',\n",
       " 'few',\n",
       " 'more',\n",
       " 'most',\n",
       " 'other',\n",
       " 'some',\n",
       " 'such',\n",
       " 'no',\n",
       " 'nor',\n",
       " 'not',\n",
       " 'only',\n",
       " 'own',\n",
       " 'same',\n",
       " 'so',\n",
       " 'than',\n",
       " 'too',\n",
       " 'very',\n",
       " 's',\n",
       " 't',\n",
       " 'can',\n",
       " 'will',\n",
       " 'just',\n",
       " 'don',\n",
       " \"don't\",\n",
       " 'should',\n",
       " \"should've\",\n",
       " 'now',\n",
       " 'd',\n",
       " 'll',\n",
       " 'm',\n",
       " 'o',\n",
       " 're',\n",
       " 've',\n",
       " 'y',\n",
       " 'ain',\n",
       " 'aren',\n",
       " \"aren't\",\n",
       " 'couldn',\n",
       " \"couldn't\",\n",
       " 'didn',\n",
       " \"didn't\",\n",
       " 'doesn',\n",
       " \"doesn't\",\n",
       " 'hadn',\n",
       " \"hadn't\",\n",
       " 'hasn',\n",
       " \"hasn't\",\n",
       " 'haven',\n",
       " \"haven't\",\n",
       " 'isn',\n",
       " \"isn't\",\n",
       " 'ma',\n",
       " 'mightn',\n",
       " \"mightn't\",\n",
       " 'mustn',\n",
       " \"mustn't\",\n",
       " 'needn',\n",
       " \"needn't\",\n",
       " 'shan',\n",
       " \"shan't\",\n",
       " 'shouldn',\n",
       " \"shouldn't\",\n",
       " 'wasn',\n",
       " \"wasn't\",\n",
       " 'weren',\n",
       " \"weren't\",\n",
       " 'won',\n",
       " \"won't\",\n",
       " 'wouldn',\n",
       " \"wouldn't\"]"
      ]
     },
     "execution_count": 46,
     "metadata": {},
     "output_type": "execute_result"
    }
   ],
   "source": [
    "list_of_stopwords"
   ]
  },
  {
   "cell_type": "markdown",
   "metadata": {},
   "source": [
    "# Cleaning Data"
   ]
  },
  {
   "cell_type": "code",
   "execution_count": 47,
   "metadata": {},
   "outputs": [
    {
     "name": "stdout",
     "output_type": "stream",
     "text": [
      "<class 'pandas.core.frame.DataFrame'>\n",
      "RangeIndex: 10261 entries, 0 to 10260\n",
      "Data columns (total 9 columns):\n",
      " #   Column          Non-Null Count  Dtype  \n",
      "---  ------          --------------  -----  \n",
      " 0   reviewerID      10261 non-null  object \n",
      " 1   asin            10261 non-null  object \n",
      " 2   reviewerName    10234 non-null  object \n",
      " 3   helpful         10261 non-null  object \n",
      " 4   reviewText      10254 non-null  object \n",
      " 5   overall         10261 non-null  float64\n",
      " 6   summary         10261 non-null  object \n",
      " 7   unixReviewTime  10261 non-null  int64  \n",
      " 8   reviewTime      10261 non-null  object \n",
      "dtypes: float64(1), int64(1), object(7)\n",
      "memory usage: 721.6+ KB\n"
     ]
    }
   ],
   "source": [
    "df.info()"
   ]
  },
  {
   "cell_type": "code",
   "execution_count": 48,
   "metadata": {},
   "outputs": [],
   "source": [
    "df_reviewText_empty = df[df['reviewText'].isna()]\n",
    "df_reviewText_not_empty = df[~df['reviewText'].isna()]"
   ]
  },
  {
   "cell_type": "code",
   "execution_count": 49,
   "metadata": {},
   "outputs": [],
   "source": [
    "df = df_reviewText_not_empty"
   ]
  },
  {
   "cell_type": "code",
   "execution_count": 50,
   "metadata": {},
   "outputs": [
    {
     "name": "stdout",
     "output_type": "stream",
     "text": [
      "<class 'pandas.core.frame.DataFrame'>\n",
      "Int64Index: 10254 entries, 0 to 10260\n",
      "Data columns (total 9 columns):\n",
      " #   Column          Non-Null Count  Dtype  \n",
      "---  ------          --------------  -----  \n",
      " 0   reviewerID      10254 non-null  object \n",
      " 1   asin            10254 non-null  object \n",
      " 2   reviewerName    10227 non-null  object \n",
      " 3   helpful         10254 non-null  object \n",
      " 4   reviewText      10254 non-null  object \n",
      " 5   overall         10254 non-null  float64\n",
      " 6   summary         10254 non-null  object \n",
      " 7   unixReviewTime  10254 non-null  int64  \n",
      " 8   reviewTime      10254 non-null  object \n",
      "dtypes: float64(1), int64(1), object(7)\n",
      "memory usage: 801.1+ KB\n"
     ]
    }
   ],
   "source": [
    "df.info()"
   ]
  },
  {
   "cell_type": "code",
   "execution_count": 51,
   "metadata": {},
   "outputs": [
    {
     "name": "stderr",
     "output_type": "stream",
     "text": [
      "/Users/sangramjithazarika/opt/anaconda3/lib/python3.8/site-packages/pandas/core/series.py:4517: SettingWithCopyWarning: \n",
      "A value is trying to be set on a copy of a slice from a DataFrame\n",
      "\n",
      "See the caveats in the documentation: https://pandas.pydata.org/pandas-docs/stable/user_guide/indexing.html#returning-a-view-versus-a-copy\n",
      "  return super().fillna(\n"
     ]
    }
   ],
   "source": [
    "df['reviewerName'].fillna(\"Anonymous\", inplace = True)"
   ]
  },
  {
   "cell_type": "code",
   "execution_count": 52,
   "metadata": {},
   "outputs": [
    {
     "name": "stdout",
     "output_type": "stream",
     "text": [
      "<class 'pandas.core.frame.DataFrame'>\n",
      "Int64Index: 10254 entries, 0 to 10260\n",
      "Data columns (total 9 columns):\n",
      " #   Column          Non-Null Count  Dtype  \n",
      "---  ------          --------------  -----  \n",
      " 0   reviewerID      10254 non-null  object \n",
      " 1   asin            10254 non-null  object \n",
      " 2   reviewerName    10254 non-null  object \n",
      " 3   helpful         10254 non-null  object \n",
      " 4   reviewText      10254 non-null  object \n",
      " 5   overall         10254 non-null  float64\n",
      " 6   summary         10254 non-null  object \n",
      " 7   unixReviewTime  10254 non-null  int64  \n",
      " 8   reviewTime      10254 non-null  object \n",
      "dtypes: float64(1), int64(1), object(7)\n",
      "memory usage: 801.1+ KB\n"
     ]
    }
   ],
   "source": [
    "df.info()"
   ]
  },
  {
   "cell_type": "markdown",
   "metadata": {},
   "source": [
    "# Removing the signs and stopwords from the review text given by the users."
   ]
  },
  {
   "cell_type": "code",
   "execution_count": 53,
   "metadata": {},
   "outputs": [],
   "source": [
    "signs = ['@', '#', '$', '%', '^', '&', '*', '(', ')']"
   ]
  },
  {
   "cell_type": "code",
   "execution_count": 54,
   "metadata": {},
   "outputs": [
    {
     "data": {
      "text/plain": [
       "10254"
      ]
     },
     "execution_count": 54,
     "metadata": {},
     "output_type": "execute_result"
    }
   ],
   "source": [
    "clean_reviews = []\n",
    "for i in range(df.shape[0]):\n",
    "    current_review = df['reviewText'].values[i]\n",
    "    current_review_list = word_tokenize(current_review)\n",
    "    clean_text = ''\n",
    "    for each_word in current_review_list:\n",
    "        each_word = each_word.lower()\n",
    "        if not each_word in list_of_stopwords:\n",
    "            if not each_word in signs:\n",
    "                clean_text = clean_text + each_word + \" \"\n",
    "    clean_reviews.append(clean_text)\n",
    "len(clean_reviews)"
   ]
  },
  {
   "cell_type": "code",
   "execution_count": 55,
   "metadata": {},
   "outputs": [
    {
     "name": "stderr",
     "output_type": "stream",
     "text": [
      "<ipython-input-55-11ce699ebc91>:1: SettingWithCopyWarning: \n",
      "A value is trying to be set on a copy of a slice from a DataFrame.\n",
      "Try using .loc[row_indexer,col_indexer] = value instead\n",
      "\n",
      "See the caveats in the documentation: https://pandas.pydata.org/pandas-docs/stable/user_guide/indexing.html#returning-a-view-versus-a-copy\n",
      "  df['clean_reviews'] = clean_reviews\n"
     ]
    }
   ],
   "source": [
    "df['clean_reviews'] = clean_reviews"
   ]
  },
  {
   "cell_type": "code",
   "execution_count": 56,
   "metadata": {},
   "outputs": [
    {
     "data": {
      "text/html": [
       "<div>\n",
       "<style scoped>\n",
       "    .dataframe tbody tr th:only-of-type {\n",
       "        vertical-align: middle;\n",
       "    }\n",
       "\n",
       "    .dataframe tbody tr th {\n",
       "        vertical-align: top;\n",
       "    }\n",
       "\n",
       "    .dataframe thead th {\n",
       "        text-align: right;\n",
       "    }\n",
       "</style>\n",
       "<table border=\"1\" class=\"dataframe\">\n",
       "  <thead>\n",
       "    <tr style=\"text-align: right;\">\n",
       "      <th></th>\n",
       "      <th>reviewText</th>\n",
       "      <th>clean_reviews</th>\n",
       "    </tr>\n",
       "  </thead>\n",
       "  <tbody>\n",
       "    <tr>\n",
       "      <th>0</th>\n",
       "      <td>Not much to write about here, but it does exac...</td>\n",
       "      <td>much write , exactly 's supposed . filters pop...</td>\n",
       "    </tr>\n",
       "    <tr>\n",
       "      <th>1</th>\n",
       "      <td>The product does exactly as it should and is q...</td>\n",
       "      <td>product exactly quite affordable.i realized do...</td>\n",
       "    </tr>\n",
       "    <tr>\n",
       "      <th>2</th>\n",
       "      <td>The primary job of this device is to block the...</td>\n",
       "      <td>primary job device block breath would otherwis...</td>\n",
       "    </tr>\n",
       "    <tr>\n",
       "      <th>3</th>\n",
       "      <td>Nice windscreen protects my MXL mic and preven...</td>\n",
       "      <td>nice windscreen protects mxl mic prevents pops...</td>\n",
       "    </tr>\n",
       "    <tr>\n",
       "      <th>4</th>\n",
       "      <td>This pop filter is great. It looks and perform...</td>\n",
       "      <td>pop filter great . looks performs like studio ...</td>\n",
       "    </tr>\n",
       "    <tr>\n",
       "      <th>5</th>\n",
       "      <td>So good that I bought another one.  Love the h...</td>\n",
       "      <td>good bought another one . love heavy cord gold...</td>\n",
       "    </tr>\n",
       "    <tr>\n",
       "      <th>6</th>\n",
       "      <td>I have used monster cables for years, and with...</td>\n",
       "      <td>used monster cables years , good reason . life...</td>\n",
       "    </tr>\n",
       "    <tr>\n",
       "      <th>7</th>\n",
       "      <td>I now use this cable to run from the output of...</td>\n",
       "      <td>use cable run output pedal chain input fender ...</td>\n",
       "    </tr>\n",
       "    <tr>\n",
       "      <th>8</th>\n",
       "      <td>Perfect for my Epiphone Sheraton II.  Monster ...</td>\n",
       "      <td>perfect epiphone sheraton ii . monster cables ...</td>\n",
       "    </tr>\n",
       "    <tr>\n",
       "      <th>9</th>\n",
       "      <td>Monster makes the best cables and a lifetime w...</td>\n",
       "      <td>monster makes best cables lifetime warranty do...</td>\n",
       "    </tr>\n",
       "    <tr>\n",
       "      <th>10</th>\n",
       "      <td>Monster makes a wide array of cables, includin...</td>\n",
       "      <td>monster makes wide array cables , including hi...</td>\n",
       "    </tr>\n",
       "    <tr>\n",
       "      <th>11</th>\n",
       "      <td>I got it to have it if I needed it. I have fou...</td>\n",
       "      <td>got needed . found n't really need often rarel...</td>\n",
       "    </tr>\n",
       "    <tr>\n",
       "      <th>12</th>\n",
       "      <td>If you are not use to using a large sustaining...</td>\n",
       "      <td>use using large sustaining pedal playing piano...</td>\n",
       "    </tr>\n",
       "    <tr>\n",
       "      <th>13</th>\n",
       "      <td>I love it, I used this for my Yamaha ypt-230 a...</td>\n",
       "      <td>love , used yamaha ypt-230 works great , would...</td>\n",
       "    </tr>\n",
       "    <tr>\n",
       "      <th>14</th>\n",
       "      <td>I bought this to use in my home studio to cont...</td>\n",
       "      <td>bought use home studio control midi keyboard ....</td>\n",
       "    </tr>\n",
       "    <tr>\n",
       "      <th>15</th>\n",
       "      <td>I bought this to use with my keyboard. I wasn'...</td>\n",
       "      <td>bought use keyboard . n't really aware options...</td>\n",
       "    </tr>\n",
       "    <tr>\n",
       "      <th>16</th>\n",
       "      <td>This Fender cable is the perfect length for me...</td>\n",
       "      <td>fender cable perfect length ! sometimes find b...</td>\n",
       "    </tr>\n",
       "    <tr>\n",
       "      <th>17</th>\n",
       "      <td>wanted it just on looks alone...It is a nice l...</td>\n",
       "      <td>wanted looks alone ... nice looking cord ... k...</td>\n",
       "    </tr>\n",
       "    <tr>\n",
       "      <th>18</th>\n",
       "      <td>I've been using these cables for more than 4 m...</td>\n",
       "      <td>'ve using cables 4 months holding pretty well ...</td>\n",
       "    </tr>\n",
       "    <tr>\n",
       "      <th>19</th>\n",
       "      <td>Fender cords look great and work just as well....</td>\n",
       "      <td>fender cords look great work well . adding wor...</td>\n",
       "    </tr>\n",
       "    <tr>\n",
       "      <th>20</th>\n",
       "      <td>This is a cool looking cheap cable which works...</td>\n",
       "      <td>cool looking cheap cable works well . bent one...</td>\n",
       "    </tr>\n",
       "    <tr>\n",
       "      <th>21</th>\n",
       "      <td>The Fender 18 Feet California Clear Instrument...</td>\n",
       "      <td>fender 18 feet california clear instrument cab...</td>\n",
       "    </tr>\n",
       "    <tr>\n",
       "      <th>22</th>\n",
       "      <td>Very good cable. Well made and it looks great ...</td>\n",
       "      <td>good cable . well made looks great candy apple...</td>\n",
       "    </tr>\n",
       "    <tr>\n",
       "      <th>23</th>\n",
       "      <td>Got this cable to run a rockband keyboard cont...</td>\n",
       "      <td>got cable run rockband keyboard controller m-a...</td>\n",
       "    </tr>\n",
       "    <tr>\n",
       "      <th>24</th>\n",
       "      <td>When I was searching for MIDI cables for my AR...</td>\n",
       "      <td>searching midi cables art x-15 foot controller...</td>\n",
       "    </tr>\n",
       "    <tr>\n",
       "      <th>25</th>\n",
       "      <td>Cant go wrong. Great quality on a budget price...</td>\n",
       "      <td>cant go wrong . great quality budget price - h...</td>\n",
       "    </tr>\n",
       "    <tr>\n",
       "      <th>26</th>\n",
       "      <td>The ends of the midi cable look and feel like ...</td>\n",
       "      <td>ends midi cable look feel like quality . conne...</td>\n",
       "    </tr>\n",
       "    <tr>\n",
       "      <th>27</th>\n",
       "      <td>Just trying to find a midi to midi was a task,...</td>\n",
       "      <td>trying find midi midi task , make sure pin con...</td>\n",
       "    </tr>\n",
       "    <tr>\n",
       "      <th>28</th>\n",
       "      <td>The Hosa XLR cables are affordable and very he...</td>\n",
       "      <td>hosa xlr cables affordable heavily made.i larg...</td>\n",
       "    </tr>\n",
       "    <tr>\n",
       "      <th>29</th>\n",
       "      <td>I bought these to go from my board to the amp....</td>\n",
       "      <td>bought go board amp . use mobile church take b...</td>\n",
       "    </tr>\n",
       "    <tr>\n",
       "      <th>30</th>\n",
       "      <td>Sturdy cord and plugs, inexpensive, good value...</td>\n",
       "      <td>sturdy cord plugs , inexpensive , good value ....</td>\n",
       "    </tr>\n",
       "    <tr>\n",
       "      <th>31</th>\n",
       "      <td>Use it every week at gigs.  Solid, no problems...</td>\n",
       "      <td>use every week gigs . solid , problems solder ...</td>\n",
       "    </tr>\n",
       "    <tr>\n",
       "      <th>32</th>\n",
       "      <td>Hosa products are a good bang for the buck. I ...</td>\n",
       "      <td>hosa products good bang buck . n't looked spec...</td>\n",
       "    </tr>\n",
       "    <tr>\n",
       "      <th>33</th>\n",
       "      <td>This was exactly what I was after. I have a vo...</td>\n",
       "      <td>exactly . voice touch needed small cord connec...</td>\n",
       "    </tr>\n",
       "    <tr>\n",
       "      <th>34</th>\n",
       "      <td>I bought these because I really had too long o...</td>\n",
       "      <td>bought really long mike cords solo live show ....</td>\n",
       "    </tr>\n",
       "    <tr>\n",
       "      <th>35</th>\n",
       "      <td>This cable seems like it will last me for a wh...</td>\n",
       "      <td>cable seems like last . used connect di box ge...</td>\n",
       "    </tr>\n",
       "    <tr>\n",
       "      <th>36</th>\n",
       "      <td>These are not the greatest but they're cheap a...</td>\n",
       "      <td>greatest 're cheap get fast need . 've one fai...</td>\n",
       "    </tr>\n",
       "    <tr>\n",
       "      <th>37</th>\n",
       "      <td>This is a fine cable at a decent price point, ...</td>\n",
       "      <td>fine cable decent price point , nothing except...</td>\n",
       "    </tr>\n",
       "    <tr>\n",
       "      <th>38</th>\n",
       "      <td>I've used a lot of cables and I always come ba...</td>\n",
       "      <td>'ve used lot cables always come back hosa , in...</td>\n",
       "    </tr>\n",
       "    <tr>\n",
       "      <th>39</th>\n",
       "      <td>I bought this cord after returning a cheap one...</td>\n",
       "      <td>bought cord returning cheap one 've known bett...</td>\n",
       "    </tr>\n",
       "    <tr>\n",
       "      <th>40</th>\n",
       "      <td>Nice solid cables, with excellent support at t...</td>\n",
       "      <td>nice solid cables , excellent support ends . l...</td>\n",
       "    </tr>\n",
       "    <tr>\n",
       "      <th>41</th>\n",
       "      <td>Good quality cable and sounds very good</td>\n",
       "      <td>good quality cable sounds good</td>\n",
       "    </tr>\n",
       "    <tr>\n",
       "      <th>42</th>\n",
       "      <td>Zero issues with this cable so far.  It feels ...</td>\n",
       "      <td>zero issues cable far . feels fairly cheap lig...</td>\n",
       "    </tr>\n",
       "    <tr>\n",
       "      <th>43</th>\n",
       "      <td>Realtively inexpensive patch cable for electri...</td>\n",
       "      <td>realtively inexpensive patch cable electric gu...</td>\n",
       "    </tr>\n",
       "    <tr>\n",
       "      <th>44</th>\n",
       "      <td>I bought this because I wanted a cheap replace...</td>\n",
       "      <td>bought wanted cheap replacement cable one shor...</td>\n",
       "    </tr>\n",
       "    <tr>\n",
       "      <th>45</th>\n",
       "      <td>This is a very nice cable for the price. I alr...</td>\n",
       "      <td>nice cable price . already bent one end though...</td>\n",
       "    </tr>\n",
       "    <tr>\n",
       "      <th>46</th>\n",
       "      <td>Cheap and good texture rubber that does not ge...</td>\n",
       "      <td>cheap good texture rubber get stiff . time tel...</td>\n",
       "    </tr>\n",
       "    <tr>\n",
       "      <th>47</th>\n",
       "      <td>Seems sturdy enough, and no noise issues, so I...</td>\n",
       "      <td>seems sturdy enough , noise issues , 'm pretty...</td>\n",
       "    </tr>\n",
       "    <tr>\n",
       "      <th>48</th>\n",
       "      <td>I'm not a professional, but have been playing ...</td>\n",
       "      <td>'m professional , playing many , many years . ...</td>\n",
       "    </tr>\n",
       "    <tr>\n",
       "      <th>49</th>\n",
       "      <td>This Hosa Cable is very well made, with good q...</td>\n",
       "      <td>hosa cable well made , good quality connectors...</td>\n",
       "    </tr>\n",
       "  </tbody>\n",
       "</table>\n",
       "</div>"
      ],
      "text/plain": [
       "                                           reviewText  \\\n",
       "0   Not much to write about here, but it does exac...   \n",
       "1   The product does exactly as it should and is q...   \n",
       "2   The primary job of this device is to block the...   \n",
       "3   Nice windscreen protects my MXL mic and preven...   \n",
       "4   This pop filter is great. It looks and perform...   \n",
       "5   So good that I bought another one.  Love the h...   \n",
       "6   I have used monster cables for years, and with...   \n",
       "7   I now use this cable to run from the output of...   \n",
       "8   Perfect for my Epiphone Sheraton II.  Monster ...   \n",
       "9   Monster makes the best cables and a lifetime w...   \n",
       "10  Monster makes a wide array of cables, includin...   \n",
       "11  I got it to have it if I needed it. I have fou...   \n",
       "12  If you are not use to using a large sustaining...   \n",
       "13  I love it, I used this for my Yamaha ypt-230 a...   \n",
       "14  I bought this to use in my home studio to cont...   \n",
       "15  I bought this to use with my keyboard. I wasn'...   \n",
       "16  This Fender cable is the perfect length for me...   \n",
       "17  wanted it just on looks alone...It is a nice l...   \n",
       "18  I've been using these cables for more than 4 m...   \n",
       "19  Fender cords look great and work just as well....   \n",
       "20  This is a cool looking cheap cable which works...   \n",
       "21  The Fender 18 Feet California Clear Instrument...   \n",
       "22  Very good cable. Well made and it looks great ...   \n",
       "23  Got this cable to run a rockband keyboard cont...   \n",
       "24  When I was searching for MIDI cables for my AR...   \n",
       "25  Cant go wrong. Great quality on a budget price...   \n",
       "26  The ends of the midi cable look and feel like ...   \n",
       "27  Just trying to find a midi to midi was a task,...   \n",
       "28  The Hosa XLR cables are affordable and very he...   \n",
       "29  I bought these to go from my board to the amp....   \n",
       "30  Sturdy cord and plugs, inexpensive, good value...   \n",
       "31  Use it every week at gigs.  Solid, no problems...   \n",
       "32  Hosa products are a good bang for the buck. I ...   \n",
       "33  This was exactly what I was after. I have a vo...   \n",
       "34  I bought these because I really had too long o...   \n",
       "35  This cable seems like it will last me for a wh...   \n",
       "36  These are not the greatest but they're cheap a...   \n",
       "37  This is a fine cable at a decent price point, ...   \n",
       "38  I've used a lot of cables and I always come ba...   \n",
       "39  I bought this cord after returning a cheap one...   \n",
       "40  Nice solid cables, with excellent support at t...   \n",
       "41            Good quality cable and sounds very good   \n",
       "42  Zero issues with this cable so far.  It feels ...   \n",
       "43  Realtively inexpensive patch cable for electri...   \n",
       "44  I bought this because I wanted a cheap replace...   \n",
       "45  This is a very nice cable for the price. I alr...   \n",
       "46  Cheap and good texture rubber that does not ge...   \n",
       "47  Seems sturdy enough, and no noise issues, so I...   \n",
       "48  I'm not a professional, but have been playing ...   \n",
       "49  This Hosa Cable is very well made, with good q...   \n",
       "\n",
       "                                        clean_reviews  \n",
       "0   much write , exactly 's supposed . filters pop...  \n",
       "1   product exactly quite affordable.i realized do...  \n",
       "2   primary job device block breath would otherwis...  \n",
       "3   nice windscreen protects mxl mic prevents pops...  \n",
       "4   pop filter great . looks performs like studio ...  \n",
       "5   good bought another one . love heavy cord gold...  \n",
       "6   used monster cables years , good reason . life...  \n",
       "7   use cable run output pedal chain input fender ...  \n",
       "8   perfect epiphone sheraton ii . monster cables ...  \n",
       "9   monster makes best cables lifetime warranty do...  \n",
       "10  monster makes wide array cables , including hi...  \n",
       "11  got needed . found n't really need often rarel...  \n",
       "12  use using large sustaining pedal playing piano...  \n",
       "13  love , used yamaha ypt-230 works great , would...  \n",
       "14  bought use home studio control midi keyboard ....  \n",
       "15  bought use keyboard . n't really aware options...  \n",
       "16  fender cable perfect length ! sometimes find b...  \n",
       "17  wanted looks alone ... nice looking cord ... k...  \n",
       "18  've using cables 4 months holding pretty well ...  \n",
       "19  fender cords look great work well . adding wor...  \n",
       "20  cool looking cheap cable works well . bent one...  \n",
       "21  fender 18 feet california clear instrument cab...  \n",
       "22  good cable . well made looks great candy apple...  \n",
       "23  got cable run rockband keyboard controller m-a...  \n",
       "24  searching midi cables art x-15 foot controller...  \n",
       "25  cant go wrong . great quality budget price - h...  \n",
       "26  ends midi cable look feel like quality . conne...  \n",
       "27  trying find midi midi task , make sure pin con...  \n",
       "28  hosa xlr cables affordable heavily made.i larg...  \n",
       "29  bought go board amp . use mobile church take b...  \n",
       "30  sturdy cord plugs , inexpensive , good value ....  \n",
       "31  use every week gigs . solid , problems solder ...  \n",
       "32  hosa products good bang buck . n't looked spec...  \n",
       "33  exactly . voice touch needed small cord connec...  \n",
       "34  bought really long mike cords solo live show ....  \n",
       "35  cable seems like last . used connect di box ge...  \n",
       "36  greatest 're cheap get fast need . 've one fai...  \n",
       "37  fine cable decent price point , nothing except...  \n",
       "38  've used lot cables always come back hosa , in...  \n",
       "39  bought cord returning cheap one 've known bett...  \n",
       "40  nice solid cables , excellent support ends . l...  \n",
       "41                    good quality cable sounds good   \n",
       "42  zero issues cable far . feels fairly cheap lig...  \n",
       "43  realtively inexpensive patch cable electric gu...  \n",
       "44  bought wanted cheap replacement cable one shor...  \n",
       "45  nice cable price . already bent one end though...  \n",
       "46  cheap good texture rubber get stiff . time tel...  \n",
       "47  seems sturdy enough , noise issues , 'm pretty...  \n",
       "48  'm professional , playing many , many years . ...  \n",
       "49  hosa cable well made , good quality connectors...  "
      ]
     },
     "execution_count": 56,
     "metadata": {},
     "output_type": "execute_result"
    }
   ],
   "source": [
    "df[['reviewText','clean_reviews']].head(50)"
   ]
  },
  {
   "cell_type": "code",
   "execution_count": 57,
   "metadata": {},
   "outputs": [],
   "source": [
    "from sklearn.feature_extraction.text import CountVectorizer"
   ]
  },
  {
   "cell_type": "code",
   "execution_count": 58,
   "metadata": {},
   "outputs": [
    {
     "data": {
      "text/plain": [
       "0        5.0\n",
       "1        5.0\n",
       "2        5.0\n",
       "3        5.0\n",
       "4        5.0\n",
       "        ... \n",
       "10256    5.0\n",
       "10257    5.0\n",
       "10258    4.0\n",
       "10259    4.0\n",
       "10260    4.0\n",
       "Name: overall, Length: 10254, dtype: float64"
      ]
     },
     "execution_count": 58,
     "metadata": {},
     "output_type": "execute_result"
    }
   ],
   "source": [
    "df['overall']"
   ]
  },
  {
   "cell_type": "markdown",
   "metadata": {},
   "source": [
    "# Label Encoding"
   ]
  },
  {
   "cell_type": "code",
   "execution_count": 59,
   "metadata": {},
   "outputs": [],
   "source": [
    "#from sklearn.preprocessing import LabelEncoder"
   ]
  },
  {
   "cell_type": "code",
   "execution_count": 60,
   "metadata": {},
   "outputs": [],
   "source": [
    "#le = LabelEncoder()"
   ]
  },
  {
   "cell_type": "code",
   "execution_count": 61,
   "metadata": {},
   "outputs": [],
   "source": [
    "#df['overall'] = le.fit_transform(df['overall'])"
   ]
  },
  {
   "cell_type": "code",
   "execution_count": 62,
   "metadata": {},
   "outputs": [],
   "source": [
    "#df['overall']"
   ]
  },
  {
   "cell_type": "markdown",
   "metadata": {},
   "source": [
    "# Creating the sparsh matrix"
   ]
  },
  {
   "cell_type": "code",
   "execution_count": 63,
   "metadata": {},
   "outputs": [],
   "source": [
    "cv = CountVectorizer()"
   ]
  },
  {
   "cell_type": "code",
   "execution_count": 64,
   "metadata": {},
   "outputs": [],
   "source": [
    "sparsh_matrix = cv.fit_transform(df['clean_reviews'])"
   ]
  },
  {
   "cell_type": "code",
   "execution_count": 65,
   "metadata": {},
   "outputs": [
    {
     "name": "stdout",
     "output_type": "stream",
     "text": [
      "  (0, 11844)\t2\n",
      "  (0, 20326)\t1\n",
      "  (0, 6768)\t1\n",
      "  (0, 17577)\t1\n",
      "  (0, 7261)\t2\n",
      "  (0, 13624)\t2\n",
      "  (0, 16715)\t1\n",
      "  (0, 14607)\t1\n",
      "  (0, 4785)\t1\n",
      "  (0, 12522)\t1\n",
      "  (0, 10850)\t1\n",
      "  (0, 13876)\t1\n",
      "  (0, 1507)\t1\n",
      "  (0, 11459)\t1\n",
      "  (0, 19971)\t1\n",
      "  (0, 3226)\t1\n",
      "  (0, 8984)\t1\n",
      "  (0, 20252)\t1\n",
      "  (0, 5366)\t1\n",
      "  (0, 13881)\t1\n",
      "  (1, 6768)\t1\n",
      "  (1, 13624)\t2\n",
      "  (1, 12522)\t1\n",
      "  (1, 19971)\t1\n",
      "  (1, 3226)\t2\n",
      "  :\t:\n",
      "  (10253, 12156)\t1\n",
      "  (10253, 14586)\t1\n",
      "  (10253, 18052)\t1\n",
      "  (10253, 523)\t2\n",
      "  (10253, 10843)\t1\n",
      "  (10253, 4218)\t1\n",
      "  (10253, 17325)\t6\n",
      "  (10253, 17044)\t1\n",
      "  (10253, 2604)\t2\n",
      "  (10253, 15207)\t1\n",
      "  (10253, 7789)\t1\n",
      "  (10253, 8098)\t1\n",
      "  (10253, 3322)\t1\n",
      "  (10253, 3008)\t1\n",
      "  (10253, 18384)\t1\n",
      "  (10253, 19790)\t1\n",
      "  (10253, 3004)\t1\n",
      "  (10253, 10066)\t2\n",
      "  (10253, 20304)\t1\n",
      "  (10253, 17033)\t1\n",
      "  (10253, 1911)\t1\n",
      "  (10253, 10233)\t1\n",
      "  (10253, 1082)\t1\n",
      "  (10253, 19304)\t2\n",
      "  (10253, 1023)\t1\n"
     ]
    }
   ],
   "source": [
    "print(sparsh_matrix)"
   ]
  },
  {
   "cell_type": "markdown",
   "metadata": {},
   "source": [
    "# Training Model"
   ]
  },
  {
   "cell_type": "code",
   "execution_count": 66,
   "metadata": {},
   "outputs": [],
   "source": [
    "from sklearn.model_selection import train_test_split"
   ]
  },
  {
   "cell_type": "code",
   "execution_count": 67,
   "metadata": {},
   "outputs": [],
   "source": [
    "X_train, X_test, Y_train, Y_test = train_test_split(sparsh_matrix, df['overall'])"
   ]
  },
  {
   "cell_type": "code",
   "execution_count": 68,
   "metadata": {},
   "outputs": [
    {
     "data": {
      "text/plain": [
       "((7690, 20524), (2564, 20524), (7690,), (2564,))"
      ]
     },
     "execution_count": 68,
     "metadata": {},
     "output_type": "execute_result"
    }
   ],
   "source": [
    "X_train.shape, X_test.shape, Y_train.shape, Y_test.shape"
   ]
  },
  {
   "cell_type": "code",
   "execution_count": 69,
   "metadata": {},
   "outputs": [],
   "source": [
    "from sklearn.naive_bayes import MultinomialNB"
   ]
  },
  {
   "cell_type": "code",
   "execution_count": 70,
   "metadata": {},
   "outputs": [],
   "source": [
    "nb = MultinomialNB()"
   ]
  },
  {
   "cell_type": "code",
   "execution_count": 71,
   "metadata": {},
   "outputs": [
    {
     "data": {
      "text/plain": [
       "MultinomialNB()"
      ]
     },
     "execution_count": 71,
     "metadata": {},
     "output_type": "execute_result"
    }
   ],
   "source": [
    "nb.fit(X_train, Y_train)"
   ]
  },
  {
   "cell_type": "code",
   "execution_count": 72,
   "metadata": {},
   "outputs": [],
   "source": [
    "Y_pred = nb.predict(X_test)"
   ]
  },
  {
   "cell_type": "code",
   "execution_count": 73,
   "metadata": {},
   "outputs": [],
   "source": [
    "from sklearn.metrics import accuracy_score"
   ]
  },
  {
   "cell_type": "code",
   "execution_count": 74,
   "metadata": {},
   "outputs": [
    {
     "data": {
      "text/plain": [
       "0.6622464898595943"
      ]
     },
     "execution_count": 74,
     "metadata": {},
     "output_type": "execute_result"
    }
   ],
   "source": [
    "accuracy_score(Y_pred, Y_test)"
   ]
  }
 ],
 "metadata": {
  "kernelspec": {
   "display_name": "Python 3",
   "language": "python",
   "name": "python3"
  },
  "language_info": {
   "codemirror_mode": {
    "name": "ipython",
    "version": 3
   },
   "file_extension": ".py",
   "mimetype": "text/x-python",
   "name": "python",
   "nbconvert_exporter": "python",
   "pygments_lexer": "ipython3",
   "version": "3.8.5"
  }
 },
 "nbformat": 4,
 "nbformat_minor": 4
}
